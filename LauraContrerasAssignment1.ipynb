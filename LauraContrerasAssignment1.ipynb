{
 "cells": [
  {
   "cell_type": "markdown",
   "metadata": {},
   "source": [
    "# Hw 1. Please complete the following activity and submit the notebook in LMS (learning management system). This homework is due by the end of week 3, to allow time for selecting your team and topic of the final project.\n"
   ]
  },
  {
   "cell_type": "markdown",
   "metadata": {},
   "source": [
    "# Q1(.5 point) Why we need Python virtual environments?\n",
    "\n",
    "Please write no more than 3 lines."
   ]
  },
  {
   "cell_type": "markdown",
   "metadata": {},
   "source": [
    "We need python virtual environments becaause it allows for segregation of dependencies between projects. When we update python libraries in one project it won't affect the other projects. Lastly, it provides a collaborative setting. \n"
   ]
  },
  {
   "cell_type": "markdown",
   "metadata": {},
   "source": [
    "# Q2(.5 point) Sort the following list in place alphabetically using last three characters."
   ]
  },
  {
   "cell_type": "code",
   "execution_count": 1,
   "metadata": {},
   "outputs": [
    {
     "data": {
      "text/plain": [
       "['Africa', 'America', 'Antarctica', 'Australia', 'Europe', 'Asia']"
      ]
     },
     "execution_count": 1,
     "metadata": {},
     "output_type": "execute_result"
    }
   ],
   "source": [
    "continentsL = ['Europe', 'Africa', 'America', 'Antarctica', 'Asia', 'Australia']\n",
    "\n",
    "sorted(continentsL, key=lambda x: x[-3:])"
   ]
  },
  {
   "cell_type": "markdown",
   "metadata": {},
   "source": [
    "# Q3(1= .5+.5 points) We want to compare random integer generation time in numpy and random module of \"plain\" python. Generate 100 random integers in the range 1 to 10 including 1 and 10. Write jupyter notebook line magic to compare execution time of random integer generation in the following cells (look for the cells having the comment *write line magic*).  Line magic must execute the given statement  10 times in a loop and repeat the process 5 times.\n",
    "\n",
    " \n",
    " Hints:\n",
    "\n",
    " - Note that numpy.random has randint function and random has random.randint function.\n",
    " - Press shift+tab after typing above function or search their documentation to understand their parameters.\n",
    " - use ? on magic command timeit for further documentation. see how to use **-n and -r options**.\n",
    " "
   ]
  },
  {
   "cell_type": "code",
   "execution_count": 6,
   "metadata": {},
   "outputs": [],
   "source": [
    "import random\n",
    "num_sample = 100\n",
    "low = 1\n",
    "high = 10"
   ]
  },
  {
   "cell_type": "code",
   "execution_count": 8,
   "metadata": {
    "scrolled": true
   },
   "outputs": [
    {
     "name": "stdout",
     "output_type": "stream",
     "text": [
      "341 µs ± 67.6 µs per loop (mean ± std. dev. of 5 runs, 10 loops each)\n"
     ]
    }
   ],
   "source": [
    "# write line magic for random module in the next line\n",
    "%timeit -r 5 -n 10 [random.randint(low, high) for i in range(num_sample)]"
   ]
  },
  {
   "cell_type": "code",
   "execution_count": 9,
   "metadata": {},
   "outputs": [],
   "source": [
    "import numpy as np"
   ]
  },
  {
   "cell_type": "code",
   "execution_count": 10,
   "metadata": {},
   "outputs": [
    {
     "name": "stdout",
     "output_type": "stream",
     "text": [
      "978 µs ± 203 µs per loop (mean ± std. dev. of 5 runs, 10 loops each)\n"
     ]
    }
   ],
   "source": [
    "# write line magic for numpy randint in the next line\n",
    "%timeit -r 5 -n 10 [np.random.randint(low, high) for i in range(num_sample)]"
   ]
  },
  {
   "cell_type": "markdown",
   "metadata": {},
   "source": [
    "<font size = \"6\"> To start working toward final project, complete the following questions by writing markdown in the same cell in next line. Each question in worth .5 point. </font>\n",
    "\n",
    "In tools 1 course, __*we are concerned with data cleaning, feature engineering and exploratory analysis. Make sure your selected final project allows for lots of data cleaning, transformation and engineering opportunity.*__ \n",
    "\n",
    "Go over project and presentation rubric in course webpage to better understand the requirement for the project.  We will evaluate the answer to see if it meets the final project requirements.\n",
    "\n",
    "\n",
    "\n",
    "<font color = \"red\" size = \"5\">If you are working in a team, we'll read only one team member notebook for the following questions. Please make sure you have identical answers for following questions.  </font>\n",
    "\n",
    "<font color =\"red\"> To edit a markdown cell you need to double click in the cell</font>"
   ]
  },
  {
   "cell_type": "markdown",
   "metadata": {},
   "source": [
    "# Q4 List your team members in bullet format. (No more than 3 members).\n",
    "Note that\n",
    "\n",
    "- **Each member** has to present a portion of the project in the final presentation.\n",
    "\n",
    "-  Final report must list the contribution of each member. \n"
   ]
  },
  {
   "cell_type": "markdown",
   "metadata": {},
   "source": [
    "- Teresa Vail\n",
    "- Laura Contreras\n",
    "\n"
   ]
  },
  {
   "cell_type": "markdown",
   "metadata": {},
   "source": [
    "# Q5  What  problem you are trying to solve?"
   ]
  },
  {
   "cell_type": "markdown",
   "metadata": {},
   "source": [
    "We are trying to look at the correlation between gun types and how they impact mass shootings and the shooter's attributes. \n"
   ]
  },
  {
   "cell_type": "markdown",
   "metadata": {},
   "source": [
    "# Q6 Describe the attributes of examples in the dataset. If you are planning to collect the data (webscrapping, web API etc.), list the timeline to finish the data collection."
   ]
  },
  {
   "cell_type": "markdown",
   "metadata": {},
   "source": [
    "The data set will be taken from a github repository that web scrapped from gunviolencearchive.org. It contains over 260,000 gun violence incidents with 29 attributes from 1/1/2013 to 3/31/2018. Our main attributes we will be focusing on are the following:\n",
    "\n",
    "- state -  the state where the incident occured in\n",
    "- n_killed - number of people killed\n",
    "- n_injured -\tnumber of people injured\n",
    "- gun_stolen - key: gun ID, value: 'Unknown' or 'Stolen'\n",
    "- gun_type - key: gun ID, value: description of gun type\n",
    "- n_guns_involved\t- number of guns involved\n",
    "- participant_age - key: participant ID\n",
    "- participant_age_group - key: participant ID, value: description of age group, e.g. 'Adult 18+'\n",
    "- participant_gender - key: participant ID, value: 'Male' or 'Female'\n",
    "- participant_name - key: participant ID\t\n",
    "- participant_relationship - participant ID, value: relationship of participant to other participants\n",
    "- participant_status - participant ID, value: 'Arrested', 'Killed', 'Injured', or 'Unharmed'\n",
    "- participant_type - key: participant ID, value: 'Victim' or 'Subject-Suspect'\n"
   ]
  },
  {
   "cell_type": "markdown",
   "metadata": {},
   "source": [
    "# Q7 Give example of records (sample points). Explain why this is a noisy data set (highlight  portion of record attributes you think are noisy)."
   ]
  },
  {
   "cell_type": "markdown",
   "metadata": {},
   "source": [
    "Example of a record:\n",
    "- Incideent_id: 461105\n",
    "- date: 2013-01-01\n",
    "- state: Pennsylvania\n",
    "- city_or_county: McKeesport\n",
    "- address: 1506 Versailles Avenue and Coursin Street\n",
    "- n_killed: 0\n",
    "- n_injured: 4\n",
    "- incident_url: http://www.gunviolencearchive.org/incident/461105\n",
    "- source_url: http://www.post-gazette.com/local/south/2013/01/17/Man-arrested-in-New-Year-s-Eve-shooting-in-McKeesport/stories/201301170275\n",
    "- incident_url_fields_missing: FALSE\n",
    "- congressional_district: 14\n",
    "- gun_stolen: \n",
    "- gun_type:\n",
    "- incident_characteristics: Shot - Wounded/Injured||Mass Shooting (4+ victims injured or killed excluding the subject/suspect/perpetrator, one location)||Possession (gun(s) found during commission of other crimes)||Possession of gun by felon or prohibited person\n",
    "- latitude: 40.3467\n",
    "- location_description: \n",
    "- longitude: -79.8559\n",
    "- n_guns_involved:\n",
    "- notes: Julian Sims under investigation: Four Shot and Injured\n",
    "- participant_age: 0::20\n",
    "- participant_age_group: 0::Adult 18+||1::Adult 18+||2::Adult 18+||3::Adult 18+||4::Adult 18+\n",
    "- participant_gender: 0::Male||1::Male||3::Male||4::Female\n",
    "- participant_name: 0::Julian Sims\n",
    "- participant_relationshp:\n",
    "- participant_status: 0::Arrested||1::Injured||2::Injured||3::Injured||4::Injured\n",
    "- participant_type: 0::Victim||1::Victim||2::Victim||3::Victim||4::Subject-Suspect\n",
    "- sources: http://pittsburgh.cbslocal.com/2013/01/01/4-people-shot-in-mckeesport/||http://www.wtae.com/news/local/allegheny/U-S-Marshals-task-force-arrests-New-Year-s-party-shooting-suspect/17977588||http://www.post-gazette.com/local/south/2013/01/17/Man-arrested-in-New-Year-s-Eve-shooting-in-McKeesport/stories/201301170275\n",
    "- state_house_district: \n",
    "- state_senate_district:\n",
    "\n",
    "This is a noisy data set because it contains over 260K records and 29 attributes per record. Some records have missing fields (like the record shown above), and some fields (e.g. incident_characteristics) have multiples entries that we will need to extract for better comparison. We will have to condense the data set to the main attributes that we will be focusing on. There are some attributes such as address (where the incident took place) and the inicident url/source url that does not appear relevant to our exploratory analysis. "
   ]
  },
  {
   "cell_type": "markdown",
   "metadata": {},
   "source": [
    "# Q8 What kind of  feature engineering opportunity you see.\n",
    "\n",
    "We'll cover feature engineering but here are some examples to get an idea of feature engineering.\n",
    "- Do you need to extract a number, year, or a word in column (attribute of a record).\n",
    "    + Perhaps extracting Miss, Mr., Dr. is more important than actual name?\n",
    "    + Maybe year or time is embbedded in the text desciption and it is important for analysis. \n",
    "- If a column has numerical values do you see a potential for using these values or a transformation of these values like square, log etc?"
   ]
  },
  {
   "cell_type": "markdown",
   "metadata": {},
   "source": [
    "Some feature engineering opportunity we see is extracting columns from the dataset that we will need. I see we may need to transform some of the categorical answers into binary answers ( 0 ='victim', 1 = 'subject-suspect') to help in the exploratory analysis. We may take the data and create a model that predicts the outcome of victims based on certain predictors. I see an opportunity to create a logisitic or linear regression model. "
   ]
  }
 ],
 "metadata": {
  "kernelspec": {
   "display_name": "Python 3 (ipykernel)",
   "language": "python",
   "name": "python3"
  },
  "language_info": {
   "codemirror_mode": {
    "name": "ipython",
    "version": 3
   },
   "file_extension": ".py",
   "mimetype": "text/x-python",
   "name": "python",
   "nbconvert_exporter": "python",
   "pygments_lexer": "ipython3",
   "version": "3.9.12"
  },
  "toc": {
   "base_numbering": 1,
   "nav_menu": {},
   "number_sections": false,
   "sideBar": true,
   "skip_h1_title": false,
   "title_cell": "Table of Contents",
   "title_sidebar": "Contents",
   "toc_cell": false,
   "toc_position": {},
   "toc_section_display": true,
   "toc_window_display": false
  },
  "varInspector": {
   "cols": {
    "lenName": 16,
    "lenType": 16,
    "lenVar": 40
   },
   "kernels_config": {
    "python": {
     "delete_cmd_postfix": "",
     "delete_cmd_prefix": "del ",
     "library": "var_list.py",
     "varRefreshCmd": "print(var_dic_list())"
    },
    "r": {
     "delete_cmd_postfix": ") ",
     "delete_cmd_prefix": "rm(",
     "library": "var_list.r",
     "varRefreshCmd": "cat(var_dic_list()) "
    }
   },
   "types_to_exclude": [
    "module",
    "function",
    "builtin_function_or_method",
    "instance",
    "_Feature"
   ],
   "window_display": false
  }
 },
 "nbformat": 4,
 "nbformat_minor": 2
}
