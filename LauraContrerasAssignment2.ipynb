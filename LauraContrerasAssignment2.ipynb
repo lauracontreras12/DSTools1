{
 "cells": [
  {
   "cell_type": "markdown",
   "metadata": {},
   "source": [
    "# HW2 total points 5\n",
    "# Solve following problems. Each problem is worth 1 point. Your answers should be written in one line. Total points 6."
   ]
  },
  {
   "cell_type": "markdown",
   "metadata": {},
   "source": [
    "# Q1(1 point) Remove the blank lines from the customer_record.csv using grep command and regular expression. You may have to read grep documentation to look for more otpions."
   ]
  },
  {
   "cell_type": "markdown",
   "metadata": {},
   "source": [
    "<font size = \"5\" color=\"red\"> Run following cell to create customer_record.csv </font>"
   ]
  },
  {
   "cell_type": "code",
   "execution_count": 17,
   "metadata": {
    "scrolled": true
   },
   "outputs": [],
   "source": [
    "!echo \"customer,items, type, quantity\" > customer_history.csv; echo \"Allen, Statistical analysis, book, 2\" >> customer_history.csv;echo \"\">> customer_history.csv; echo \"Jhon, Kasa Smart Wi-Fi Plug, electronics, 3\" >>customer_history.csv; echo \"Tim,Unix Shell Programming, Book, 3\" >> customer_history.csv; echo \"\">> customer_history.csv; echo \"Allen,Python for Data Analysis, Book, 1\">> customer_history.csv"
   ]
  },
  {
   "cell_type": "code",
   "execution_count": 35,
   "metadata": {
    "scrolled": false
   },
   "outputs": [
    {
     "name": "stdout",
     "output_type": "stream",
     "text": [
      "Allen,Python for Data Analysis, Book, 1 customer,items, type, quantity\n",
      "Allen, Statistical analysis, book, 2\n",
      "\n",
      "Jhon, Kasa Smart Wi-Fi Plug, electronics, 3\n",
      "Tim,Unix Shell Programming, Book, 3\n",
      "\n",
      "Allen,Python for Data Analysis, Book, 1\n"
     ]
    }
   ],
   "source": [
    "! cat customer_history.csv"
   ]
  },
  {
   "cell_type": "code",
   "execution_count": 1,
   "metadata": {
    "scrolled": true
   },
   "outputs": [
    {
     "name": "stdout",
     "output_type": "stream",
     "text": [
      "Allen,Python for Data Analysis, Book, 1 customer,items, type, quantity\n",
      "Allen, Statistical analysis, book, 2\n",
      "Jhon, Kasa Smart Wi-Fi Plug, electronics, 3\n",
      "Tim,Unix Shell Programming, Book, 3\n",
      "Allen,Python for Data Analysis, Book, 1\n"
     ]
    }
   ],
   "source": [
    "# Write code in the next line\n",
    "!grep \"^[[:alpha:]]\" customer_history.csv > customer_record.csv\n",
    "! cat customer_record.csv"
   ]
  },
  {
   "cell_type": "markdown",
   "metadata": {},
   "source": [
    "# Q2(1 point)  Use the previous grep command and a combination of commands using pipe(|) to print uniq customer names in capital letters."
   ]
  },
  {
   "cell_type": "code",
   "execution_count": 87,
   "metadata": {
    "scrolled": true
   },
   "outputs": [
    {
     "name": "stdout",
     "output_type": "stream",
     "text": [
      "ALLEN\n",
      "JHON\n",
      "TIM\n"
     ]
    }
   ],
   "source": [
    "# write commands using ! in the next line\n",
    "! grep \"^[[:alpha:]]\" customer_history.csv | tail -4 | cut -d, -f1 | tr a-z A-Z| sort | uniq\n"
   ]
  },
  {
   "cell_type": "markdown",
   "metadata": {},
   "source": [
    "# Some other  useful commands we didn't cover in the class are *mkdir, find* and *wc*.\n",
    "# Look for their documentation. Sometime we forget where the files are in the filesystem. The *find* command is really useful for searching files in filesystem. To learn these commands we wil use them in following exercises."
   ]
  },
  {
   "cell_type": "markdown",
   "metadata": {},
   "source": [
    "# Let's make  dataset_zyx_dec_2050/train and dataset_zyx_dec_2050/validation directory and add some files in them. \n",
    "\n",
    "<font color='red' size= 4 >Run the following commands to make  directories and files. </font>"
   ]
  },
  {
   "cell_type": "code",
   "execution_count": 53,
   "metadata": {
    "scrolled": true
   },
   "outputs": [
    {
     "name": "stderr",
     "output_type": "stream",
     "text": [
      "The syntax of the command is incorrect.\n",
      "The syntax of the command is incorrect.\n"
     ]
    }
   ],
   "source": [
    "!mkdir -p dataset_zyx_dec_2050/train\n",
    "!mkdir -p dataset_zyx_dec_2050/validation"
   ]
  },
  {
   "cell_type": "code",
   "execution_count": 8,
   "metadata": {},
   "outputs": [
    {
     "name": "stderr",
     "output_type": "stream",
     "text": [
      "i was unexpected at this time.\n",
      "i was unexpected at this time.\n",
      "i was unexpected at this time.\n",
      "i was unexpected at this time.\n"
     ]
    }
   ],
   "source": [
    "!for i in $(seq   5); do touch dataset_zyx_dec_2050/validation/cat$i.jpg ;done\n",
    "!for i in $(seq   5); do touch dataset_zyx_dec_2050/validation/cat$i.tfrecord ;done\n",
    "!for i in $(seq   5); do touch dataset_zyx_dec_2050/train/cat$i.jpg ;done\n",
    "!for i in $(seq   5); do touch dataset_zyx_dec_2050/train/dog$i.jpg ;done\n"
   ]
  },
  {
   "cell_type": "markdown",
   "metadata": {},
   "source": [
    "The following command displays the contents of dataset_zyx_dec_2050/validation and dataset_zyx_dec_2050/train:"
   ]
  },
  {
   "cell_type": "code",
   "execution_count": 2,
   "metadata": {},
   "outputs": [
    {
     "name": "stdout",
     "output_type": "stream",
     "text": [
      "cat1.jpg\n",
      "cat2.jpg\n",
      "cat3.jpg\n",
      "cat4.jpg\n",
      "cat5.jpg\n",
      "dog1.jpg\n",
      "dog2.jpg\n",
      "dog3.jpg\n",
      "dog4.jpg\n",
      "dog5.jpg\n"
     ]
    }
   ],
   "source": [
    "!ls dataset_zyx_dec_2050/train"
   ]
  },
  {
   "cell_type": "code",
   "execution_count": 3,
   "metadata": {},
   "outputs": [
    {
     "name": "stdout",
     "output_type": "stream",
     "text": [
      "cat1.jpg\n",
      "cat1.tfrecord\n",
      "cat2.jpg\n",
      "cat2.tfrecord\n",
      "cat3.jpg\n",
      "cat3.tfrecord\n",
      "cat4.jpg\n",
      "cat4.tfrecord\n",
      "cat5.jpg\n",
      "cat5.tfrecord\n"
     ]
    }
   ],
   "source": [
    "!ls dataset_zyx_dec_2050/validation"
   ]
  },
  {
   "cell_type": "markdown",
   "metadata": {},
   "source": [
    "# Q3(1 point) Print all the files starting with the name *cat* in the subfolders of dataset_zyx_dec_2050  using find command."
   ]
  },
  {
   "cell_type": "code",
   "execution_count": 6,
   "metadata": {},
   "outputs": [
    {
     "name": "stdout",
     "output_type": "stream",
     "text": [
      "./dataset_zyx_dec_2050/train/cat1.jpg\n",
      "./dataset_zyx_dec_2050/train/cat2.jpg\n",
      "./dataset_zyx_dec_2050/train/cat3.jpg\n",
      "./dataset_zyx_dec_2050/train/cat4.jpg\n",
      "./dataset_zyx_dec_2050/train/cat5.jpg\n",
      "./dataset_zyx_dec_2050/validation/cat1.jpg\n",
      "./dataset_zyx_dec_2050/validation/cat1.tfrecord\n",
      "./dataset_zyx_dec_2050/validation/cat2.jpg\n",
      "./dataset_zyx_dec_2050/validation/cat2.tfrecord\n",
      "./dataset_zyx_dec_2050/validation/cat3.jpg\n",
      "./dataset_zyx_dec_2050/validation/cat3.tfrecord\n",
      "./dataset_zyx_dec_2050/validation/cat4.jpg\n",
      "./dataset_zyx_dec_2050/validation/cat4.tfrecord\n",
      "./dataset_zyx_dec_2050/validation/cat5.jpg\n",
      "./dataset_zyx_dec_2050/validation/cat5.tfrecord\n"
     ]
    }
   ],
   "source": [
    "#write your command in next line\n",
    "# Hint ./use dataset_zyx_dec_2050 and read about -name option in the find command\n",
    "\n",
    "! find ./dataset_zyx_dec_2050 -name \"cat*\" \n"
   ]
  },
  {
   "cell_type": "markdown",
   "metadata": {},
   "source": [
    "# Q4(.5 point) Count number of cat files using pipe and *wc* command."
   ]
  },
  {
   "cell_type": "code",
   "execution_count": 4,
   "metadata": {},
   "outputs": [
    {
     "name": "stdout",
     "output_type": "stream",
     "text": [
      "15\n"
     ]
    }
   ],
   "source": [
    "#write your commands in the next line\n",
    "! find ./dataset_zyx_dec_2050 -name \"cat*\" | wc -l"
   ]
  },
  {
   "cell_type": "markdown",
   "metadata": {},
   "source": [
    "# Q5(.5) Using answer of Q2, find the total number of unique customers"
   ]
  },
  {
   "cell_type": "code",
   "execution_count": 5,
   "metadata": {},
   "outputs": [
    {
     "name": "stdout",
     "output_type": "stream",
     "text": [
      "3\n"
     ]
    }
   ],
   "source": [
    "# write your code in the next line\n",
    "! grep \"^[[:alpha:]]\" customer_history.csv | tail -4 | cut -d, -f1 | tr a-z A-Z| sort | uniq | wc -l"
   ]
  },
  {
   "cell_type": "markdown",
   "metadata": {},
   "source": [
    "# Let's say you work for an e-commerce company and you are on call. Due to some recent feature pushed to the production, a severity 1 ticket is raised. The ticket states that some to the customers are charged multiple time this month. Your task is to quickly find the affected customer and manually credit back the amount.\n",
    "\n",
    "<font size=\"4\" color = \"red\"> Run the followoing cell to generate the the  payment_gateway.logxx file </font>"
   ]
  },
  {
   "cell_type": "code",
   "execution_count": 78,
   "metadata": {},
   "outputs": [],
   "source": [
    "%%bash\n",
    "echo \"customer:2150:credit_card:xxxx-xxxx-xxxx:charged:\\$50\n",
    "customer:2350:credit_card:xxxx-xxxx-xxxx:charged:\\$20\n",
    "Paymenet gateway: STATUS 200\n",
    "customer:3456 payment failed\n",
    "customer:3350:credit_card:xxxx-xxxx-xxxx:charged:\\$71\n",
    "customer:4350:credit_card:xxxx-xxxx-xxxx:charged:\\$50\n",
    "customer:2350:credit_card:xxxx-xxxx-xxxx:charged:\\$20\n",
    "ncustomer:2150:credit_card:xxxx-xxxx-xxxx:charged:\\$50\n",
    "customer:3350:credit_card:xxxx-xxxx-xxxx:charged:\\$71\n",
    "customer:2350:credit_card:xxxx-xxxx-xxxx:charged:\\$20\n",
    "customer:2350:credit_card:xxxx-xxxx-xxxx:declined charged:attempt:3\" > payment_gateway.logxx"
   ]
  },
  {
   "cell_type": "code",
   "execution_count": 6,
   "metadata": {},
   "outputs": [
    {
     "name": "stdout",
     "output_type": "stream",
     "text": [
      "customer:2150:credit_card:xxxx-xxxx-xxxx:charged:$50\n",
      "customer:2350:credit_card:xxxx-xxxx-xxxx:charged:$20\n",
      "Paymenet gateway: STATUS 200\n",
      "customer:3456 payment failed\n",
      "customer:3350:credit_card:xxxx-xxxx-xxxx:charged:$71\n",
      "customer:4350:credit_card:xxxx-xxxx-xxxx:charged:$50\n",
      "customer:2350:credit_card:xxxx-xxxx-xxxx:charged:$20\n",
      "customer:2150:credit_card:xxxx-xxxx-xxxx:charged:$50\n",
      "customer:3350:credit_card:xxxx-xxxx-xxxx:charged:$71\n",
      "customer:2350:credit_card:xxxx-xxxx-xxxx:charged:$20\n",
      "customer:2350:credit_card:xxxx-xxxx-xxxx:declined charged:attempt:3\n"
     ]
    }
   ],
   "source": [
    "# Here is the file contents\n",
    "!cat payment_gateway.logxx"
   ]
  },
  {
   "cell_type": "markdown",
   "metadata": {},
   "source": [
    "# Q6(1 point) Use payment_gateway.logxx file to find the number of times a customer is charged and the line corresponding to the customer  record. Only print lines for customers charged more than one time.\n",
    "\n",
    "Hint:\n",
    "for customer 2350 line output should be\n",
    "\n",
    "3 customer:2350:credit_card:xxxx-xxxx-xxxx:charged:$20\n"
   ]
  },
  {
   "cell_type": "code",
   "execution_count": 8,
   "metadata": {},
   "outputs": [],
   "source": [
    "# Write you commands in the next line\n",
    "!sed -i -e 's/ncustomer:2150:credit_card:xxxx-xxxx-xxxx:charged:$50/customer:2150:credit_card:xxxx-xxxx-xxxx:charged:$50/' payment_gateway.logxx | cat"
   ]
  },
  {
   "cell_type": "code",
   "execution_count": 7,
   "metadata": {},
   "outputs": [
    {
     "name": "stderr",
     "output_type": "stream",
     "text": [
      "awk: cmd. line:1: { a[$1]++} END{ for (x in a) if (a[x]  print a[x], x}\n",
      "awk: cmd. line:1:                                        ^ syntax error\n"
     ]
    }
   ],
   "source": [
    "!awk '{ a[$1]++} END{ for (x in a) if (a[x] > 1) print a[x], x}' payment_gateway.logxx"
   ]
  },
  {
   "cell_type": "code",
   "execution_count": null,
   "metadata": {},
   "outputs": [],
   "source": []
  }
 ],
 "metadata": {
  "kernelspec": {
   "display_name": "Python 3 (ipykernel)",
   "language": "python",
   "name": "python3"
  },
  "language_info": {
   "codemirror_mode": {
    "name": "ipython",
    "version": 3
   },
   "file_extension": ".py",
   "mimetype": "text/x-python",
   "name": "python",
   "nbconvert_exporter": "python",
   "pygments_lexer": "ipython3",
   "version": "3.9.12"
  },
  "toc": {
   "base_numbering": 1,
   "nav_menu": {},
   "number_sections": false,
   "sideBar": true,
   "skip_h1_title": false,
   "title_cell": "Table of Contents",
   "title_sidebar": "Contents",
   "toc_cell": false,
   "toc_position": {},
   "toc_section_display": true,
   "toc_window_display": false
  },
  "varInspector": {
   "cols": {
    "lenName": 16,
    "lenType": 16,
    "lenVar": 40
   },
   "kernels_config": {
    "python": {
     "delete_cmd_postfix": "",
     "delete_cmd_prefix": "del ",
     "library": "var_list.py",
     "varRefreshCmd": "print(var_dic_list())"
    },
    "r": {
     "delete_cmd_postfix": ") ",
     "delete_cmd_prefix": "rm(",
     "library": "var_list.r",
     "varRefreshCmd": "cat(var_dic_list()) "
    }
   },
   "types_to_exclude": [
    "module",
    "function",
    "builtin_function_or_method",
    "instance",
    "_Feature"
   ],
   "window_display": false
  }
 },
 "nbformat": 4,
 "nbformat_minor": 2
}
