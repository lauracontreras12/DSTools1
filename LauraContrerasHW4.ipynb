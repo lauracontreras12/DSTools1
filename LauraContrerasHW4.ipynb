{
 "cells": [
  {
   "cell_type": "markdown",
   "metadata": {},
   "source": [
    "## Laura Contreras"
   ]
  },
  {
   "cell_type": "markdown",
   "metadata": {},
   "source": [
    "### Total points 8"
   ]
  },
  {
   "cell_type": "markdown",
   "metadata": {},
   "source": [
    "# In  the homework\n",
    "- We'll collect climate change related tweet from twitter using REST API\n",
    "- Use tweets to populate Pandas DataFrames\n",
    "- Perform some elementary pandas operation to check data sanity\n",
    "\n",
    "\n",
    "**Please read**\n",
    "\n",
    "- https://developer.twitter.com/en/developer-terms/more-on-restricted-use-cases\n"
   ]
  },
  {
   "cell_type": "markdown",
   "metadata": {},
   "source": [
    "Before proceeding with homework.\n",
    "\n",
    "<font size=\"6\" color='red'> Create new app at https://apps.twitter.com/app/new  (You may have to create twitter account before this) </font>\n",
    "\n",
    "\n",
    "\n"
   ]
  },
  {
   "cell_type": "markdown",
   "metadata": {},
   "source": [
    "[twitter api reference index](https://developer.twitter.com/en/docs/api-reference-index)\n",
    "\n",
    "\n",
    "# POST oauth2/token\n",
    "Allows a registered application to obtain an OAuth 2 Bearer Token, which can be used to make API requests on an application's own behalf, without a user context.\n",
    "https://developer.twitter.com/en/docs/basics/authentication/api-reference/token\n"
   ]
  },
  {
   "cell_type": "markdown",
   "metadata": {},
   "source": [
    "Once you have create app, click on app details and keys and token tab\n",
    "\n",
    "<font size=\"6\" color='red'> write API key value for client_key and API secret key value for client_secret in the next cell</font>"
   ]
  },
  {
   "cell_type": "code",
   "execution_count": 1,
   "metadata": {},
   "outputs": [],
   "source": [
    "client_key = \"6hIoMp2fxVL6cWbGbfUQiam4q\"\n",
    "client_secret = \"NrKxuL9vjQyFUQfM4E6ZO4pcVCaj3jnxwTDV8SHJOALT63WdZz\""
   ]
  },
  {
   "cell_type": "code",
   "execution_count": 2,
   "metadata": {},
   "outputs": [],
   "source": [
    "import requests\n",
    "import base64\n",
    "\n",
    "key_secret = '{}:{}'.format(client_key, client_secret).encode('ascii')\n",
    "b64_encoded_key = base64.b64encode(key_secret)\n",
    "b64_encoded_key = b64_encoded_key.decode('ascii')"
   ]
  },
  {
   "cell_type": "code",
   "execution_count": 3,
   "metadata": {},
   "outputs": [],
   "source": [
    "base_url = 'https://api.twitter.com/'\n",
    "auth_endpoint = base_url+'oauth2/token'\n",
    "\n",
    "auth_headers = { 'Authorization': 'Basic {}'.format(b64_encoded_key),\n",
    "                'Content-Type': 'application/x-www-form-urlencoded;charset=UTF-8'}\n",
    "\n",
    "auth_data = { 'grant_type': 'client_credentials'}\n",
    "\n"
   ]
  },
  {
   "cell_type": "markdown",
   "metadata": {},
   "source": [
    "Let's post to authentication endpoint and get the token to be used in subsequent REST API call"
   ]
  },
  {
   "cell_type": "code",
   "execution_count": 4,
   "metadata": {},
   "outputs": [
    {
     "data": {
      "text/plain": [
       "200"
      ]
     },
     "execution_count": 4,
     "metadata": {},
     "output_type": "execute_result"
    }
   ],
   "source": [
    "response = requests.post(auth_endpoint, headers=auth_headers, data=auth_data)\n",
    "response.status_code"
   ]
  },
  {
   "cell_type": "code",
   "execution_count": 5,
   "metadata": {},
   "outputs": [
    {
     "data": {
      "text/plain": [
       "{'token_type': 'bearer',\n",
       " 'access_token': 'AAAAAAAAAAAAAAAAAAAAAPbfegEAAAAA%2B9lohXdz%2BQrbZ2zzlj9toQsPFpE%3DzXYlnWZZo7u6JBsevx4ivqF4AzQiYg8lvuXHxkgcpb6MmvxZRb'}"
      ]
     },
     "execution_count": 5,
     "metadata": {},
     "output_type": "execute_result"
    }
   ],
   "source": [
    "json_data =  response.json()\n",
    "json_data"
   ]
  },
  {
   "cell_type": "code",
   "execution_count": 6,
   "metadata": {},
   "outputs": [],
   "source": [
    "access_token = json_data['access_token']"
   ]
  },
  {
   "cell_type": "markdown",
   "metadata": {},
   "source": [
    "# Let's do some search on climate change\n",
    "This is how we got search endpoint\n",
    "\n",
    "https://developer.twitter.com/en/docs/tweets/search/api-reference/get-search-tweets"
   ]
  },
  {
   "cell_type": "code",
   "execution_count": 7,
   "metadata": {},
   "outputs": [],
   "source": [
    "max_tweets=100\n",
    "tw_limit=100# we can get only 100 tweet per call with standard search api\n",
    "tweets = []\n",
    "users =[]"
   ]
  },
  {
   "cell_type": "code",
   "execution_count": 8,
   "metadata": {},
   "outputs": [],
   "source": [
    "search_headers = {'Authorization': 'Bearer {}'.format(access_token)    \n",
    "}\n",
    "\n",
    "parameters = { 'query': 'climate change',\n",
    "                'max_results': 100,\n",
    "                'expansions' :'author_id,referenced_tweets.id',\n",
    "                'tweet.fields' : 'created_at,entities,source,in_reply_to_user_id,geo,lang,public_metrics,reply_settings,referenced_tweets,conversation_id',\n",
    "                'user.fields': 'created_at,description,entities,id,location,name,pinned_tweet_id,profile_image_url,protected,public_metrics,url,username,verified,withheld'}\n",
    "\n",
    "search_url = base_url+'2/tweets/search/recent'\n",
    "\n",
    "response = requests.get(search_url, headers=search_headers, params=parameters)"
   ]
  },
  {
   "cell_type": "code",
   "execution_count": 9,
   "metadata": {
    "scrolled": true
   },
   "outputs": [],
   "source": [
    "climate_tweets = response.json()\n"
   ]
  },
  {
   "cell_type": "code",
   "execution_count": 10,
   "metadata": {},
   "outputs": [
    {
     "data": {
      "text/plain": [
       "100"
      ]
     },
     "execution_count": 10,
     "metadata": {},
     "output_type": "execute_result"
    }
   ],
   "source": [
    "len(climate_tweets['data'])"
   ]
  },
  {
   "cell_type": "code",
   "execution_count": 11,
   "metadata": {},
   "outputs": [],
   "source": [
    "tweets +=climate_tweets['data']\n"
   ]
  },
  {
   "cell_type": "code",
   "execution_count": 12,
   "metadata": {},
   "outputs": [],
   "source": [
    "\n",
    " ids = [tw['id'] for tw in climate_tweets['data']]\n",
    "    "
   ]
  },
  {
   "cell_type": "code",
   "execution_count": 13,
   "metadata": {},
   "outputs": [],
   "source": [
    "min_id = min(ids)"
   ]
  },
  {
   "cell_type": "code",
   "execution_count": 14,
   "metadata": {},
   "outputs": [],
   "source": [
    "tw_ids = []\n",
    "tw_ids+=ids"
   ]
  },
  {
   "cell_type": "markdown",
   "metadata": {},
   "source": [
    "As per twitter api documentation we can use\n",
    "\n",
    "until_id:Returns results with an ID less than (that is, older than) or equal to the specified ID.\n",
    "\n",
    "to get older tweets"
   ]
  },
  {
   "cell_type": "markdown",
   "metadata": {},
   "source": [
    "# Q1 (.5 points) Modify only *parameters* dictionary in the following code so that subsequent call to climate change search returns older tweets with id less than minimum of previous tweets ids."
   ]
  },
  {
   "cell_type": "code",
   "execution_count": 15,
   "metadata": {},
   "outputs": [],
   "source": [
    " parameters = { 'query': 'climate change',\n",
    "                'max_results': tw_limit,\n",
    "                'expansions' :'author_id,referenced_tweets.id',\n",
    "                'tweet.fields' : 'created_at,entities,source,in_reply_to_user_id,geo,lang,public_metrics,reply_settings,referenced_tweets,conversation_id',\n",
    "                'user.fields': 'created_at,description,entities,id,location,name,pinned_tweet_id,profile_image_url,protected,public_metrics,url,username,verified,withheld',\n",
    "                'until_id': min_id\n",
    "              }\n",
    "\n",
    "for  i in range(max_tweets//tw_limit -1):\n",
    "    print(\"searching tweets with id  < {}\".format(min_id))\n",
    "    search_url = base_url+'2/tweets/search/recent'\n",
    "    response = requests.get(search_url, headers=search_headers, params=parameters)\n",
    "    climate_tweets = response.json()\n",
    "    ids = [tw['id'] for tw in climate_tweets['statuses']]\n",
    "    tw_ids+=ids\n",
    "    print(i, len(climate_tweets['data']))\n",
    "    min_id = min(ids)\n",
    "    tweets +=climate_tweets['data']\n",
    "    users.extend(climate_tweets['includes']['users'])\n",
    "    if 'next_token' in response.json()['meta']:\n",
    "\t\t\t\t\tparameters['next_token'] = response.json()['meta']['next_token']"
   ]
  },
  {
   "cell_type": "code",
   "execution_count": 16,
   "metadata": {},
   "outputs": [
    {
     "name": "stdout",
     "output_type": "stream",
     "text": [
      "Total tweets retrieved= 100\n"
     ]
    }
   ],
   "source": [
    "print('Total tweets retrieved= {}'.format(len(tweets)))"
   ]
  },
  {
   "cell_type": "markdown",
   "metadata": {},
   "source": [
    "# Let's print some tweets"
   ]
  },
  {
   "cell_type": "code",
   "execution_count": 17,
   "metadata": {},
   "outputs": [],
   "source": [
    "import pprint #pretty-print” arbitrary Python data structures. Tweets object has hierarchical struture\n",
    "max_tweet_to_print=4"
   ]
  },
  {
   "cell_type": "code",
   "execution_count": 18,
   "metadata": {},
   "outputs": [
    {
     "name": "stdout",
     "output_type": "stream",
     "text": [
      "[{'author_id': '1408248857079664645',\n",
      "  'conversation_id': '1549451683238776832',\n",
      "  'created_at': '2022-07-19T17:50:43.000Z',\n",
      "  'entities': {'annotations': [{'end': 138,\n",
      "                                'normalized_text': 'Ukr',\n",
      "                                'probability': 0.8103,\n",
      "                                'start': 136,\n",
      "                                'type': 'Place'}],\n",
      "               'hashtags': [{'end': 94, 'start': 86, 'tag': 'COVID19'}],\n",
      "               'mentions': [{'end': 12,\n",
      "                             'id': '189868631',\n",
      "                             'start': 3,\n",
      "                             'username': 'DrTedros'}]},\n",
      "  'id': '1549451683238776832',\n",
      "  'lang': 'en',\n",
      "  'public_metrics': {'like_count': 0,\n",
      "                     'quote_count': 0,\n",
      "                     'reply_count': 0,\n",
      "                     'retweet_count': 5},\n",
      "  'referenced_tweets': [{'id': '1549451406666596354', 'type': 'retweeted'}],\n",
      "  'reply_settings': 'everyone',\n",
      "  'source': 'Twitter for iPhone',\n",
      "  'text': 'RT @DrTedros: Hunger, food insecurity and malnutrition are on the '\n",
      "          'rise, compounded by #COVID19, climate change, drought, and the war '\n",
      "          'in Ukr…'},\n",
      " {'author_id': '1908170252',\n",
      "  'conversation_id': '1549451682060410881',\n",
      "  'created_at': '2022-07-19T17:50:43.000Z',\n",
      "  'entities': {'annotations': [{'end': 113,\n",
      "                                'normalized_text': 'South African',\n",
      "                                'probability': 0.5898,\n",
      "                                'start': 101,\n",
      "                                'type': 'Place'},\n",
      "                               {'end': 128,\n",
      "                                'normalized_text': 'Durban',\n",
      "                                'probability': 0.9413,\n",
      "                                'start': 123,\n",
      "                                'type': 'Place'}],\n",
      "               'mentions': [{'end': 16,\n",
      "                             'id': '1134059457191776257',\n",
      "                             'start': 3,\n",
      "                             'username': 'vanessa_vash'}]},\n",
      "  'id': '1549451682060410881',\n",
      "  'lang': 'en',\n",
      "  'public_metrics': {'like_count': 0,\n",
      "                     'quote_count': 0,\n",
      "                     'reply_count': 0,\n",
      "                     'retweet_count': 4},\n",
      "  'referenced_tweets': [{'id': '1549450640857890821', 'type': 'retweeted'}],\n",
      "  'reply_settings': 'everyone',\n",
      "  'source': 'Twitter for Android',\n",
      "  'text': 'RT @vanessa_vash: This year, the heaviest rains in at least six '\n",
      "          'decades killed 459 people around the South African city of Durban '\n",
      "          'and the H…'},\n",
      " {'author_id': '49340574',\n",
      "  'conversation_id': '1549397668199292928',\n",
      "  'created_at': '2022-07-19T17:50:42.000Z',\n",
      "  'entities': {'mentions': [{'end': 15,\n",
      "                             'id': '863849562695487489',\n",
      "                             'start': 0,\n",
      "                             'username': 'PoliticsPollss'}]},\n",
      "  'id': '1549451680378490881',\n",
      "  'in_reply_to_user_id': '863849562695487489',\n",
      "  'lang': 'en',\n",
      "  'public_metrics': {'like_count': 0,\n",
      "                     'quote_count': 0,\n",
      "                     'reply_count': 0,\n",
      "                     'retweet_count': 0},\n",
      "  'referenced_tweets': [{'id': '1549397668199292928', 'type': 'replied_to'}],\n",
      "  'reply_settings': 'everyone',\n",
      "  'source': 'Twitter Web App',\n",
      "  'text': '@PoliticsPollss Cost of living AND climate change'},\n",
      " {'author_id': '1467806874326110209',\n",
      "  'conversation_id': '1549451677685743618',\n",
      "  'created_at': '2022-07-19T17:50:42.000Z',\n",
      "  'entities': {'hashtags': [{'end': 97, 'start': 89, 'tag': 'bitcoin'},\n",
      "                            {'end': 105, 'start': 98, 'tag': 'Barack'},\n",
      "                            {'end': 112, 'start': 106, 'tag': 'Obama'},\n",
      "                            {'end': 120, 'start': 113, 'tag': 'SpotOn'},\n",
      "                            {'end': 129, 'start': 121, 'tag': 'Analogy'},\n",
      "                            {'end': 136, 'start': 130, 'tag': 'Young'},\n",
      "                            {'end': 144, 'start': 137, 'tag': 'People'},\n",
      "                            {'end': 150, 'start': 145, 'tag': 'Care'},\n",
      "                            {'end': 159, 'start': 151, 'tag': 'Climate'},\n",
      "                            {'end': 167, 'start': 160, 'tag': 'Change'}],\n",
      "               'urls': [{'description': \"Barack Obama's Climate Change Speech \"\n",
      "                                        'During Dear Earth Event',\n",
      "                         'display_url': 'bestcarwaxs.com/barack-obama-h…',\n",
      "                         'end': 191,\n",
      "                         'expanded_url': 'https://bestcarwaxs.com/barack-obama-has-a-spot-on-analogy-for-why-young-people-should-care-about-climate-change-bitcoin-barack-obama-spoton-analogy-young-people-care-climate-change-2/',\n",
      "                         'images': [{'height': 1092,\n",
      "                                     'url': 'https://pbs.twimg.com/news_img/1549451683314499584/e2_JWPhx?format=jpg&name=orig',\n",
      "                                     'width': 728},\n",
      "                                    {'height': 150,\n",
      "                                     'url': 'https://pbs.twimg.com/news_img/1549451683314499584/e2_JWPhx?format=jpg&name=150x150',\n",
      "                                     'width': 150}],\n",
      "                         'start': 168,\n",
      "                         'status': 200,\n",
      "                         'title': 'Barack Obama Has a Spot-On Analogy For Why '\n",
      "                                  'Young People Should Care About Climate '\n",
      "                                  'Change #bitcoin #Barack #Obama #SpotOn '\n",
      "                                  '#Analogy #Young #People #Care #Climate '\n",
      "                                  '#Change - Go down',\n",
      "                         'unwound_url': 'https://bestcarwaxs.com/barack-obama-has-a-spot-on-analogy-for-why-young-people-should-care-about-climate-change-bitcoin-barack-obama-spoton-analogy-young-people-care-climate-change-2/',\n",
      "                         'url': 'https://t.co/sQDCXbfN3V'}]},\n",
      "  'id': '1549451677685743618',\n",
      "  'lang': 'en',\n",
      "  'public_metrics': {'like_count': 0,\n",
      "                     'quote_count': 0,\n",
      "                     'reply_count': 0,\n",
      "                     'retweet_count': 0},\n",
      "  'reply_settings': 'everyone',\n",
      "  'source': 'WordPress.com',\n",
      "  'text': 'Barack Obama Has a Spot-On Analogy For Why Young People Should Care '\n",
      "          'About Climate Change #bitcoin #Barack #Obama #SpotOn #Analogy '\n",
      "          '#Young #People #Care #Climate\\xa0#Change https://t.co/sQDCXbfN3V'}]\n"
     ]
    }
   ],
   "source": [
    "pprint.pprint(tweets[0:max_tweet_to_print])"
   ]
  },
  {
   "cell_type": "markdown",
   "metadata": {},
   "source": [
    "Link to understand [tweet-object](https://developer.twitter.com/en/docs/tweets/data-dictionary/overview/tweet-object)\n",
    "\n",
    "Let'see some tweets"
   ]
  },
  {
   "cell_type": "code",
   "execution_count": 19,
   "metadata": {},
   "outputs": [
    {
     "name": "stdout",
     "output_type": "stream",
     "text": [
      "RT @DrTedros: Hunger, food insecurity and malnutrition are on the rise, compounded by #COVID19, climate change, drought, and the war in Ukr…\n",
      "\n",
      "RT @vanessa_vash: This year, the heaviest rains in at least six decades killed 459 people around the South African city of Durban and the H…\n",
      "\n",
      "@PoliticsPollss Cost of living AND climate change\n",
      "\n",
      "Barack Obama Has a Spot-On Analogy For Why Young People Should Care About Climate Change #bitcoin #Barack #Obama #SpotOn #Analogy #Young #People #Care #Climate #Change https://t.co/sQDCXbfN3V\n",
      "\n"
     ]
    }
   ],
   "source": [
    "for status in tweets[0:max_tweet_to_print]:\n",
    "    print(status['text'] + '\\n')"
   ]
  },
  {
   "cell_type": "markdown",
   "metadata": {},
   "source": [
    "# Pandas DataFrame for storing tweet feed\n",
    "\n",
    "Create following date frame for storing tweets\n",
    "\n",
    "- **climate_feed_df** DataFrame for storing tweet\n",
    "- **user_df** DataFrame for storing user detail\n",
    "- **retweeted_status_df** for storing original tweet"
   ]
  },
  {
   "cell_type": "markdown",
   "metadata": {},
   "source": [
    "# Printing keys in tweets"
   ]
  },
  {
   "cell_type": "code",
   "execution_count": 20,
   "metadata": {},
   "outputs": [
    {
     "name": "stdout",
     "output_type": "stream",
     "text": [
      "dict_keys(['public_metrics', 'referenced_tweets', 'id', 'created_at', 'entities', 'conversation_id', 'text', 'source', 'lang', 'reply_settings', 'author_id'])\n",
      "11\n"
     ]
    }
   ],
   "source": [
    "print(tweets[1].keys())\n",
    "print(len(tweets[1].keys()))\n"
   ]
  },
  {
   "cell_type": "code",
   "execution_count": 21,
   "metadata": {},
   "outputs": [],
   "source": [
    "import pandas as pd\n",
    "import copy"
   ]
  },
  {
   "cell_type": "markdown",
   "metadata": {},
   "source": [
    "# Generators for building DataFrames"
   ]
  },
  {
   "cell_type": "markdown",
   "metadata": {},
   "source": [
    "# Q2 (2 point) Complete following   python generator *tweet_generator*. Generator yield modified tweet .\n",
    "For each tweet in tweets\n",
    "- Replace **author_id** attribute with **user_id**.\n",
    "- Replace **referenced_tweets** attribute with **referenced_tweets_ids** and value(s) with **tweet['referenced_tweets']['id']** value(s).\n",
    "- Keep other attributes in the tweet as such."
   ]
  },
  {
   "cell_type": "code",
   "execution_count": 22,
   "metadata": {},
   "outputs": [],
   "source": [
    "def tweet_generator(tweets):\n",
    "    for tweet in tweets:\n",
    "        try:\n",
    "            modified_tweet = copy.deepcopy(tweet)\n",
    "            modified_tweet['user_id'] = modified_tweet.pop('author_id')\n",
    "            modified_tweet['referenced_tweets_ids'] = modified_tweet['referenced_tweets'][0]['id']\n",
    "            modified_tweet['retweet_count'] = modified_tweet['public_metrics']['retweet_count']\n",
    "            yield modified_tweet     \n",
    "        except KeyError as e:\n",
    "            continue"
   ]
  },
  {
   "cell_type": "code",
   "execution_count": 23,
   "metadata": {},
   "outputs": [
    {
     "data": {
      "text/plain": [
       "[{'public_metrics': {'retweet_count': 5,\n",
       "   'reply_count': 0,\n",
       "   'like_count': 0,\n",
       "   'quote_count': 0},\n",
       "  'referenced_tweets': [{'type': 'retweeted', 'id': '1549451406666596354'}],\n",
       "  'id': '1549451683238776832',\n",
       "  'created_at': '2022-07-19T17:50:43.000Z',\n",
       "  'entities': {'annotations': [{'start': 136,\n",
       "     'end': 138,\n",
       "     'probability': 0.8103,\n",
       "     'type': 'Place',\n",
       "     'normalized_text': 'Ukr'}],\n",
       "   'mentions': [{'start': 3,\n",
       "     'end': 12,\n",
       "     'username': 'DrTedros',\n",
       "     'id': '189868631'}],\n",
       "   'hashtags': [{'start': 86, 'end': 94, 'tag': 'COVID19'}]},\n",
       "  'conversation_id': '1549451683238776832',\n",
       "  'text': 'RT @DrTedros: Hunger, food insecurity and malnutrition are on the rise, compounded by #COVID19, climate change, drought, and the war in Ukr…',\n",
       "  'source': 'Twitter for iPhone',\n",
       "  'lang': 'en',\n",
       "  'reply_settings': 'everyone',\n",
       "  'user_id': '1408248857079664645',\n",
       "  'referenced_tweets_ids': '1549451406666596354',\n",
       "  'retweet_count': 5},\n",
       " {'public_metrics': {'retweet_count': 4,\n",
       "   'reply_count': 0,\n",
       "   'like_count': 0,\n",
       "   'quote_count': 0},\n",
       "  'referenced_tweets': [{'type': 'retweeted', 'id': '1549450640857890821'}],\n",
       "  'id': '1549451682060410881',\n",
       "  'created_at': '2022-07-19T17:50:43.000Z',\n",
       "  'entities': {'annotations': [{'start': 101,\n",
       "     'end': 113,\n",
       "     'probability': 0.5898,\n",
       "     'type': 'Place',\n",
       "     'normalized_text': 'South African'},\n",
       "    {'start': 123,\n",
       "     'end': 128,\n",
       "     'probability': 0.9413,\n",
       "     'type': 'Place',\n",
       "     'normalized_text': 'Durban'}],\n",
       "   'mentions': [{'start': 3,\n",
       "     'end': 16,\n",
       "     'username': 'vanessa_vash',\n",
       "     'id': '1134059457191776257'}]},\n",
       "  'conversation_id': '1549451682060410881',\n",
       "  'text': 'RT @vanessa_vash: This year, the heaviest rains in at least six decades killed 459 people around the South African city of Durban and the H…',\n",
       "  'source': 'Twitter for Android',\n",
       "  'lang': 'en',\n",
       "  'reply_settings': 'everyone',\n",
       "  'user_id': '1908170252',\n",
       "  'referenced_tweets_ids': '1549450640857890821',\n",
       "  'retweet_count': 4}]"
      ]
     },
     "execution_count": 23,
     "metadata": {},
     "output_type": "execute_result"
    }
   ],
   "source": [
    "# Checking  generator output\n",
    "list(tweet_generator(tweets[0:2]))"
   ]
  },
  {
   "cell_type": "code",
   "execution_count": 24,
   "metadata": {},
   "outputs": [],
   "source": [
    "climate_feed_df = pd.DataFrame(tweet_generator(tweets))"
   ]
  },
  {
   "cell_type": "code",
   "execution_count": 25,
   "metadata": {},
   "outputs": [
    {
     "data": {
      "text/html": [
       "<div>\n",
       "<style scoped>\n",
       "    .dataframe tbody tr th:only-of-type {\n",
       "        vertical-align: middle;\n",
       "    }\n",
       "\n",
       "    .dataframe tbody tr th {\n",
       "        vertical-align: top;\n",
       "    }\n",
       "\n",
       "    .dataframe thead th {\n",
       "        text-align: right;\n",
       "    }\n",
       "</style>\n",
       "<table border=\"1\" class=\"dataframe\">\n",
       "  <thead>\n",
       "    <tr style=\"text-align: right;\">\n",
       "      <th></th>\n",
       "      <th>public_metrics</th>\n",
       "      <th>referenced_tweets</th>\n",
       "      <th>id</th>\n",
       "      <th>created_at</th>\n",
       "      <th>entities</th>\n",
       "      <th>conversation_id</th>\n",
       "      <th>text</th>\n",
       "      <th>source</th>\n",
       "      <th>lang</th>\n",
       "      <th>reply_settings</th>\n",
       "      <th>user_id</th>\n",
       "      <th>referenced_tweets_ids</th>\n",
       "      <th>retweet_count</th>\n",
       "      <th>in_reply_to_user_id</th>\n",
       "    </tr>\n",
       "  </thead>\n",
       "  <tbody>\n",
       "    <tr>\n",
       "      <th>0</th>\n",
       "      <td>{'retweet_count': 5, 'reply_count': 0, 'like_c...</td>\n",
       "      <td>[{'type': 'retweeted', 'id': '1549451406666596...</td>\n",
       "      <td>1549451683238776832</td>\n",
       "      <td>2022-07-19T17:50:43.000Z</td>\n",
       "      <td>{'annotations': [{'start': 136, 'end': 138, 'p...</td>\n",
       "      <td>1549451683238776832</td>\n",
       "      <td>RT @DrTedros: Hunger, food insecurity and maln...</td>\n",
       "      <td>Twitter for iPhone</td>\n",
       "      <td>en</td>\n",
       "      <td>everyone</td>\n",
       "      <td>1408248857079664645</td>\n",
       "      <td>1549451406666596354</td>\n",
       "      <td>5</td>\n",
       "      <td>NaN</td>\n",
       "    </tr>\n",
       "    <tr>\n",
       "      <th>1</th>\n",
       "      <td>{'retweet_count': 4, 'reply_count': 0, 'like_c...</td>\n",
       "      <td>[{'type': 'retweeted', 'id': '1549450640857890...</td>\n",
       "      <td>1549451682060410881</td>\n",
       "      <td>2022-07-19T17:50:43.000Z</td>\n",
       "      <td>{'annotations': [{'start': 101, 'end': 113, 'p...</td>\n",
       "      <td>1549451682060410881</td>\n",
       "      <td>RT @vanessa_vash: This year, the heaviest rain...</td>\n",
       "      <td>Twitter for Android</td>\n",
       "      <td>en</td>\n",
       "      <td>everyone</td>\n",
       "      <td>1908170252</td>\n",
       "      <td>1549450640857890821</td>\n",
       "      <td>4</td>\n",
       "      <td>NaN</td>\n",
       "    </tr>\n",
       "    <tr>\n",
       "      <th>2</th>\n",
       "      <td>{'retweet_count': 0, 'reply_count': 0, 'like_c...</td>\n",
       "      <td>[{'type': 'replied_to', 'id': '154939766819929...</td>\n",
       "      <td>1549451680378490881</td>\n",
       "      <td>2022-07-19T17:50:42.000Z</td>\n",
       "      <td>{'mentions': [{'start': 0, 'end': 15, 'usernam...</td>\n",
       "      <td>1549397668199292928</td>\n",
       "      <td>@PoliticsPollss Cost of living AND climate change</td>\n",
       "      <td>Twitter Web App</td>\n",
       "      <td>en</td>\n",
       "      <td>everyone</td>\n",
       "      <td>49340574</td>\n",
       "      <td>1549397668199292928</td>\n",
       "      <td>0</td>\n",
       "      <td>863849562695487489</td>\n",
       "    </tr>\n",
       "    <tr>\n",
       "      <th>3</th>\n",
       "      <td>{'retweet_count': 0, 'reply_count': 0, 'like_c...</td>\n",
       "      <td>[{'type': 'replied_to', 'id': '154943583561079...</td>\n",
       "      <td>1549451674967838723</td>\n",
       "      <td>2022-07-19T17:50:41.000Z</td>\n",
       "      <td>{'annotations': [{'start': 12, 'end': 17, 'pro...</td>\n",
       "      <td>1549435835610791939</td>\n",
       "      <td>@SenSanders Bernie ITS ONLY AMERICA THAT IS ST...</td>\n",
       "      <td>Twitter Web App</td>\n",
       "      <td>en</td>\n",
       "      <td>everyone</td>\n",
       "      <td>223666765</td>\n",
       "      <td>1549435835610791939</td>\n",
       "      <td>0</td>\n",
       "      <td>29442313</td>\n",
       "    </tr>\n",
       "    <tr>\n",
       "      <th>4</th>\n",
       "      <td>{'retweet_count': 415, 'reply_count': 0, 'like...</td>\n",
       "      <td>[{'type': 'retweeted', 'id': '1549369512558006...</td>\n",
       "      <td>1549451674464489474</td>\n",
       "      <td>2022-07-19T17:50:41.000Z</td>\n",
       "      <td>{'mentions': [{'start': 3, 'end': 15, 'usernam...</td>\n",
       "      <td>1549451674464489474</td>\n",
       "      <td>RT @WildKenHill: Unfortunately we have a bad f...</td>\n",
       "      <td>Twitter for Android</td>\n",
       "      <td>en</td>\n",
       "      <td>everyone</td>\n",
       "      <td>242235411</td>\n",
       "      <td>1549369512558006273</td>\n",
       "      <td>415</td>\n",
       "      <td>NaN</td>\n",
       "    </tr>\n",
       "    <tr>\n",
       "      <th>...</th>\n",
       "      <td>...</td>\n",
       "      <td>...</td>\n",
       "      <td>...</td>\n",
       "      <td>...</td>\n",
       "      <td>...</td>\n",
       "      <td>...</td>\n",
       "      <td>...</td>\n",
       "      <td>...</td>\n",
       "      <td>...</td>\n",
       "      <td>...</td>\n",
       "      <td>...</td>\n",
       "      <td>...</td>\n",
       "      <td>...</td>\n",
       "      <td>...</td>\n",
       "    </tr>\n",
       "    <tr>\n",
       "      <th>90</th>\n",
       "      <td>{'retweet_count': 734, 'reply_count': 0, 'like...</td>\n",
       "      <td>[{'type': 'retweeted', 'id': '1549368996662755...</td>\n",
       "      <td>1549451585121665024</td>\n",
       "      <td>2022-07-19T17:50:19.000Z</td>\n",
       "      <td>{'mentions': [{'start': 3, 'end': 14, 'usernam...</td>\n",
       "      <td>1549451585121665024</td>\n",
       "      <td>RT @MikeHudema: Keep in mind, the heatwaves, w...</td>\n",
       "      <td>Twitter for Android</td>\n",
       "      <td>en</td>\n",
       "      <td>everyone</td>\n",
       "      <td>1154018512626769924</td>\n",
       "      <td>1549368996662755331</td>\n",
       "      <td>734</td>\n",
       "      <td>NaN</td>\n",
       "    </tr>\n",
       "    <tr>\n",
       "      <th>91</th>\n",
       "      <td>{'retweet_count': 290, 'reply_count': 0, 'like...</td>\n",
       "      <td>[{'type': 'retweeted', 'id': '1549130164558340...</td>\n",
       "      <td>1549451583003496448</td>\n",
       "      <td>2022-07-19T17:50:19.000Z</td>\n",
       "      <td>{'mentions': [{'start': 3, 'end': 15, 'usernam...</td>\n",
       "      <td>1549451583003496448</td>\n",
       "      <td>RT @junenotmary: Everyone says climate change ...</td>\n",
       "      <td>Twitter for iPhone</td>\n",
       "      <td>en</td>\n",
       "      <td>everyone</td>\n",
       "      <td>290123942</td>\n",
       "      <td>1549130164558340098</td>\n",
       "      <td>290</td>\n",
       "      <td>NaN</td>\n",
       "    </tr>\n",
       "    <tr>\n",
       "      <th>92</th>\n",
       "      <td>{'retweet_count': 3, 'reply_count': 0, 'like_c...</td>\n",
       "      <td>[{'type': 'retweeted', 'id': '1549443889463001...</td>\n",
       "      <td>1549451582999347200</td>\n",
       "      <td>2022-07-19T17:50:19.000Z</td>\n",
       "      <td>{'mentions': [{'start': 3, 'end': 13, 'usernam...</td>\n",
       "      <td>1549451582999347200</td>\n",
       "      <td>RT @tobygrist: @SkyNews He didn't mention all ...</td>\n",
       "      <td>Twitter for iPhone</td>\n",
       "      <td>en</td>\n",
       "      <td>everyone</td>\n",
       "      <td>1267439600961757189</td>\n",
       "      <td>1549443889463001089</td>\n",
       "      <td>3</td>\n",
       "      <td>NaN</td>\n",
       "    </tr>\n",
       "    <tr>\n",
       "      <th>93</th>\n",
       "      <td>{'retweet_count': 1, 'reply_count': 0, 'like_c...</td>\n",
       "      <td>[{'type': 'retweeted', 'id': '1549375854555176...</td>\n",
       "      <td>1549451582445699072</td>\n",
       "      <td>2022-07-19T17:50:19.000Z</td>\n",
       "      <td>{'mentions': [{'start': 3, 'end': 15, 'usernam...</td>\n",
       "      <td>1549451582445699072</td>\n",
       "      <td>RT @JillDamatac: Joke threads gone viral aside...</td>\n",
       "      <td>Twitter Web App</td>\n",
       "      <td>en</td>\n",
       "      <td>everyone</td>\n",
       "      <td>717692852</td>\n",
       "      <td>1549375854555176960</td>\n",
       "      <td>1</td>\n",
       "      <td>NaN</td>\n",
       "    </tr>\n",
       "    <tr>\n",
       "      <th>94</th>\n",
       "      <td>{'retweet_count': 900, 'reply_count': 0, 'like...</td>\n",
       "      <td>[{'type': 'retweeted', 'id': '1548963209578692...</td>\n",
       "      <td>1549451576909402112</td>\n",
       "      <td>2022-07-19T17:50:18.000Z</td>\n",
       "      <td>{'urls': [{'start': 64, 'end': 87, 'url': 'htt...</td>\n",
       "      <td>1549451576909402112</td>\n",
       "      <td>RT @patrickgaley: Happy Paying Attention to Cl...</td>\n",
       "      <td>Twitter for Android</td>\n",
       "      <td>en</td>\n",
       "      <td>everyone</td>\n",
       "      <td>1033547351514787840</td>\n",
       "      <td>1548963209578692611</td>\n",
       "      <td>900</td>\n",
       "      <td>NaN</td>\n",
       "    </tr>\n",
       "  </tbody>\n",
       "</table>\n",
       "<p>95 rows × 14 columns</p>\n",
       "</div>"
      ],
      "text/plain": [
       "                                       public_metrics  \\\n",
       "0   {'retweet_count': 5, 'reply_count': 0, 'like_c...   \n",
       "1   {'retweet_count': 4, 'reply_count': 0, 'like_c...   \n",
       "2   {'retweet_count': 0, 'reply_count': 0, 'like_c...   \n",
       "3   {'retweet_count': 0, 'reply_count': 0, 'like_c...   \n",
       "4   {'retweet_count': 415, 'reply_count': 0, 'like...   \n",
       "..                                                ...   \n",
       "90  {'retweet_count': 734, 'reply_count': 0, 'like...   \n",
       "91  {'retweet_count': 290, 'reply_count': 0, 'like...   \n",
       "92  {'retweet_count': 3, 'reply_count': 0, 'like_c...   \n",
       "93  {'retweet_count': 1, 'reply_count': 0, 'like_c...   \n",
       "94  {'retweet_count': 900, 'reply_count': 0, 'like...   \n",
       "\n",
       "                                    referenced_tweets                   id  \\\n",
       "0   [{'type': 'retweeted', 'id': '1549451406666596...  1549451683238776832   \n",
       "1   [{'type': 'retweeted', 'id': '1549450640857890...  1549451682060410881   \n",
       "2   [{'type': 'replied_to', 'id': '154939766819929...  1549451680378490881   \n",
       "3   [{'type': 'replied_to', 'id': '154943583561079...  1549451674967838723   \n",
       "4   [{'type': 'retweeted', 'id': '1549369512558006...  1549451674464489474   \n",
       "..                                                ...                  ...   \n",
       "90  [{'type': 'retweeted', 'id': '1549368996662755...  1549451585121665024   \n",
       "91  [{'type': 'retweeted', 'id': '1549130164558340...  1549451583003496448   \n",
       "92  [{'type': 'retweeted', 'id': '1549443889463001...  1549451582999347200   \n",
       "93  [{'type': 'retweeted', 'id': '1549375854555176...  1549451582445699072   \n",
       "94  [{'type': 'retweeted', 'id': '1548963209578692...  1549451576909402112   \n",
       "\n",
       "                  created_at  \\\n",
       "0   2022-07-19T17:50:43.000Z   \n",
       "1   2022-07-19T17:50:43.000Z   \n",
       "2   2022-07-19T17:50:42.000Z   \n",
       "3   2022-07-19T17:50:41.000Z   \n",
       "4   2022-07-19T17:50:41.000Z   \n",
       "..                       ...   \n",
       "90  2022-07-19T17:50:19.000Z   \n",
       "91  2022-07-19T17:50:19.000Z   \n",
       "92  2022-07-19T17:50:19.000Z   \n",
       "93  2022-07-19T17:50:19.000Z   \n",
       "94  2022-07-19T17:50:18.000Z   \n",
       "\n",
       "                                             entities      conversation_id  \\\n",
       "0   {'annotations': [{'start': 136, 'end': 138, 'p...  1549451683238776832   \n",
       "1   {'annotations': [{'start': 101, 'end': 113, 'p...  1549451682060410881   \n",
       "2   {'mentions': [{'start': 0, 'end': 15, 'usernam...  1549397668199292928   \n",
       "3   {'annotations': [{'start': 12, 'end': 17, 'pro...  1549435835610791939   \n",
       "4   {'mentions': [{'start': 3, 'end': 15, 'usernam...  1549451674464489474   \n",
       "..                                                ...                  ...   \n",
       "90  {'mentions': [{'start': 3, 'end': 14, 'usernam...  1549451585121665024   \n",
       "91  {'mentions': [{'start': 3, 'end': 15, 'usernam...  1549451583003496448   \n",
       "92  {'mentions': [{'start': 3, 'end': 13, 'usernam...  1549451582999347200   \n",
       "93  {'mentions': [{'start': 3, 'end': 15, 'usernam...  1549451582445699072   \n",
       "94  {'urls': [{'start': 64, 'end': 87, 'url': 'htt...  1549451576909402112   \n",
       "\n",
       "                                                 text               source  \\\n",
       "0   RT @DrTedros: Hunger, food insecurity and maln...   Twitter for iPhone   \n",
       "1   RT @vanessa_vash: This year, the heaviest rain...  Twitter for Android   \n",
       "2   @PoliticsPollss Cost of living AND climate change      Twitter Web App   \n",
       "3   @SenSanders Bernie ITS ONLY AMERICA THAT IS ST...      Twitter Web App   \n",
       "4   RT @WildKenHill: Unfortunately we have a bad f...  Twitter for Android   \n",
       "..                                                ...                  ...   \n",
       "90  RT @MikeHudema: Keep in mind, the heatwaves, w...  Twitter for Android   \n",
       "91  RT @junenotmary: Everyone says climate change ...   Twitter for iPhone   \n",
       "92  RT @tobygrist: @SkyNews He didn't mention all ...   Twitter for iPhone   \n",
       "93  RT @JillDamatac: Joke threads gone viral aside...      Twitter Web App   \n",
       "94  RT @patrickgaley: Happy Paying Attention to Cl...  Twitter for Android   \n",
       "\n",
       "   lang reply_settings              user_id referenced_tweets_ids  \\\n",
       "0    en       everyone  1408248857079664645   1549451406666596354   \n",
       "1    en       everyone           1908170252   1549450640857890821   \n",
       "2    en       everyone             49340574   1549397668199292928   \n",
       "3    en       everyone            223666765   1549435835610791939   \n",
       "4    en       everyone            242235411   1549369512558006273   \n",
       "..  ...            ...                  ...                   ...   \n",
       "90   en       everyone  1154018512626769924   1549368996662755331   \n",
       "91   en       everyone            290123942   1549130164558340098   \n",
       "92   en       everyone  1267439600961757189   1549443889463001089   \n",
       "93   en       everyone            717692852   1549375854555176960   \n",
       "94   en       everyone  1033547351514787840   1548963209578692611   \n",
       "\n",
       "    retweet_count in_reply_to_user_id  \n",
       "0               5                 NaN  \n",
       "1               4                 NaN  \n",
       "2               0  863849562695487489  \n",
       "3               0            29442313  \n",
       "4             415                 NaN  \n",
       "..            ...                 ...  \n",
       "90            734                 NaN  \n",
       "91            290                 NaN  \n",
       "92              3                 NaN  \n",
       "93              1                 NaN  \n",
       "94            900                 NaN  \n",
       "\n",
       "[95 rows x 14 columns]"
      ]
     },
     "execution_count": 25,
     "metadata": {},
     "output_type": "execute_result"
    }
   ],
   "source": [
    "climate_feed_df"
   ]
  },
  {
   "cell_type": "markdown",
   "metadata": {},
   "source": [
    "# Q3(1 points) List datatype using climate_feed_df. Describe which attributes doesn't have correct data types. What should be correct datatype?"
   ]
  },
  {
   "cell_type": "code",
   "execution_count": 26,
   "metadata": {},
   "outputs": [
    {
     "data": {
      "text/plain": [
       "public_metrics           object\n",
       "referenced_tweets        object\n",
       "id                       object\n",
       "created_at               object\n",
       "entities                 object\n",
       "conversation_id          object\n",
       "text                     object\n",
       "source                   object\n",
       "lang                     object\n",
       "reply_settings           object\n",
       "user_id                  object\n",
       "referenced_tweets_ids    object\n",
       "retweet_count             int64\n",
       "in_reply_to_user_id      object\n",
       "dtype: object"
      ]
     },
     "execution_count": 26,
     "metadata": {},
     "output_type": "execute_result"
    }
   ],
   "source": [
    "# write code here datatype listing\n",
    "climate_feed_df.dtypes"
   ]
  },
  {
   "cell_type": "markdown",
   "metadata": {},
   "source": [
    "# Write columns with wrong datatype and mention correct data type too.\n",
    "\n",
    "All of the id's should be either string or integer. The tweets/texts should be strings as well. \n",
    "\n"
   ]
  },
  {
   "cell_type": "markdown",
   "metadata": {},
   "source": [
    "# Q4 (1.5 point) Complete following tweet_user_generator. Generator should yield only *user* value from a tweet\n",
    "\n",
    "- As per the twitter API the user information is in the 'users' object within the 'includes' object of the response."
   ]
  },
  {
   "cell_type": "code",
   "execution_count": 27,
   "metadata": {},
   "outputs": [],
   "source": [
    "def tweet_user_generator(tweet_user_list):\n",
    "    for user in tweet_user_list:\n",
    "        try:\n",
    "            yield user\n",
    "        except KeyError:\n",
    "            continue"
   ]
  },
  {
   "cell_type": "code",
   "execution_count": 28,
   "metadata": {},
   "outputs": [],
   "source": [
    "users = pd.DataFrame(tweet_user_generator(climate_tweets))"
   ]
  },
  {
   "cell_type": "code",
   "execution_count": 29,
   "metadata": {},
   "outputs": [
    {
     "data": {
      "text/html": [
       "<div>\n",
       "<style scoped>\n",
       "    .dataframe tbody tr th:only-of-type {\n",
       "        vertical-align: middle;\n",
       "    }\n",
       "\n",
       "    .dataframe tbody tr th {\n",
       "        vertical-align: top;\n",
       "    }\n",
       "\n",
       "    .dataframe thead th {\n",
       "        text-align: right;\n",
       "    }\n",
       "</style>\n",
       "<table border=\"1\" class=\"dataframe\">\n",
       "  <thead>\n",
       "    <tr style=\"text-align: right;\">\n",
       "      <th></th>\n",
       "      <th>0</th>\n",
       "    </tr>\n",
       "  </thead>\n",
       "  <tbody>\n",
       "    <tr>\n",
       "      <th>0</th>\n",
       "      <td>data</td>\n",
       "    </tr>\n",
       "    <tr>\n",
       "      <th>1</th>\n",
       "      <td>includes</td>\n",
       "    </tr>\n",
       "    <tr>\n",
       "      <th>2</th>\n",
       "      <td>meta</td>\n",
       "    </tr>\n",
       "  </tbody>\n",
       "</table>\n",
       "</div>"
      ],
      "text/plain": [
       "          0\n",
       "0      data\n",
       "1  includes\n",
       "2      meta"
      ]
     },
     "execution_count": 29,
     "metadata": {},
     "output_type": "execute_result"
    }
   ],
   "source": [
    "users"
   ]
  },
  {
   "cell_type": "markdown",
   "metadata": {},
   "source": [
    "# Q5(1 point) List datatypes of columns using user_df. Describe which attributes doesn't have correct data types. What should be correct datatype for each case?"
   ]
  },
  {
   "cell_type": "code",
   "execution_count": 30,
   "metadata": {},
   "outputs": [
    {
     "data": {
      "text/plain": [
       "0    object\n",
       "dtype: object"
      ]
     },
     "execution_count": 30,
     "metadata": {},
     "output_type": "execute_result"
    }
   ],
   "source": [
    "# write code here for datatype listing\n",
    "\n",
    "users.dtypes"
   ]
  },
  {
   "cell_type": "markdown",
   "metadata": {},
   "source": [
    "# write columns with wrong datatype and mention correct data type too.\n",
    "\n",
    "Column 0 should be string"
   ]
  },
  {
   "cell_type": "markdown",
   "metadata": {},
   "source": [
    "# Q6 (1 point) Complete following retweeted_status_generator. Generator should yield dictionary of retweeted_status value from each tweet. If a tweet doesn't have this key return empty dictionary.\n",
    "\n",
    "- As per the twitter API the user information is in the 'users' object within the 'includes' object of the response."
   ]
  },
  {
   "cell_type": "code",
   "execution_count": 31,
   "metadata": {},
   "outputs": [],
   "source": [
    "retweeted = climate_feed_df[['id', 'retweet_count']]"
   ]
  },
  {
   "cell_type": "code",
   "execution_count": 32,
   "metadata": {},
   "outputs": [
    {
     "data": {
      "text/html": [
       "<div>\n",
       "<style scoped>\n",
       "    .dataframe tbody tr th:only-of-type {\n",
       "        vertical-align: middle;\n",
       "    }\n",
       "\n",
       "    .dataframe tbody tr th {\n",
       "        vertical-align: top;\n",
       "    }\n",
       "\n",
       "    .dataframe thead th {\n",
       "        text-align: right;\n",
       "    }\n",
       "</style>\n",
       "<table border=\"1\" class=\"dataframe\">\n",
       "  <thead>\n",
       "    <tr style=\"text-align: right;\">\n",
       "      <th></th>\n",
       "      <th>id</th>\n",
       "      <th>retweet_count</th>\n",
       "    </tr>\n",
       "  </thead>\n",
       "  <tbody>\n",
       "    <tr>\n",
       "      <th>0</th>\n",
       "      <td>1549451683238776832</td>\n",
       "      <td>5</td>\n",
       "    </tr>\n",
       "    <tr>\n",
       "      <th>1</th>\n",
       "      <td>1549451682060410881</td>\n",
       "      <td>4</td>\n",
       "    </tr>\n",
       "    <tr>\n",
       "      <th>2</th>\n",
       "      <td>1549451680378490881</td>\n",
       "      <td>0</td>\n",
       "    </tr>\n",
       "    <tr>\n",
       "      <th>3</th>\n",
       "      <td>1549451674967838723</td>\n",
       "      <td>0</td>\n",
       "    </tr>\n",
       "    <tr>\n",
       "      <th>4</th>\n",
       "      <td>1549451674464489474</td>\n",
       "      <td>415</td>\n",
       "    </tr>\n",
       "  </tbody>\n",
       "</table>\n",
       "</div>"
      ],
      "text/plain": [
       "                    id  retweet_count\n",
       "0  1549451683238776832              5\n",
       "1  1549451682060410881              4\n",
       "2  1549451680378490881              0\n",
       "3  1549451674967838723              0\n",
       "4  1549451674464489474            415"
      ]
     },
     "execution_count": 32,
     "metadata": {},
     "output_type": "execute_result"
    }
   ],
   "source": [
    "retweeted.head()"
   ]
  },
  {
   "cell_type": "markdown",
   "metadata": {},
   "source": [
    "# Q7 (1 point) Write code to find number of rows in retweeted_status_df that were not retweeted. print number of such rows."
   ]
  },
  {
   "cell_type": "code",
   "execution_count": 33,
   "metadata": {},
   "outputs": [
    {
     "data": {
      "text/plain": [
       "21"
      ]
     },
     "execution_count": 33,
     "metadata": {},
     "output_type": "execute_result"
    }
   ],
   "source": [
    "# Write code here\n",
    "(retweeted['retweet_count'] == 0).sum()"
   ]
  },
  {
   "cell_type": "code",
   "execution_count": null,
   "metadata": {},
   "outputs": [],
   "source": []
  }
 ],
 "metadata": {
  "kernelspec": {
   "display_name": "Python 3 (ipykernel)",
   "language": "python",
   "name": "python3"
  },
  "language_info": {
   "codemirror_mode": {
    "name": "ipython",
    "version": 3
   },
   "file_extension": ".py",
   "mimetype": "text/x-python",
   "name": "python",
   "nbconvert_exporter": "python",
   "pygments_lexer": "ipython3",
   "version": "3.9.12"
  },
  "toc": {
   "base_numbering": 1,
   "nav_menu": {},
   "number_sections": false,
   "sideBar": true,
   "skip_h1_title": false,
   "title_cell": "Table of Contents",
   "title_sidebar": "Contents",
   "toc_cell": false,
   "toc_position": {},
   "toc_section_display": true,
   "toc_window_display": false
  },
  "varInspector": {
   "cols": {
    "lenName": 16,
    "lenType": 16,
    "lenVar": 40
   },
   "kernels_config": {
    "python": {
     "delete_cmd_postfix": "",
     "delete_cmd_prefix": "del ",
     "library": "var_list.py",
     "varRefreshCmd": "print(var_dic_list())"
    },
    "r": {
     "delete_cmd_postfix": ") ",
     "delete_cmd_prefix": "rm(",
     "library": "var_list.r",
     "varRefreshCmd": "cat(var_dic_list()) "
    }
   },
   "types_to_exclude": [
    "module",
    "function",
    "builtin_function_or_method",
    "instance",
    "_Feature"
   ],
   "window_display": false
  }
 },
 "nbformat": 4,
 "nbformat_minor": 2
}
